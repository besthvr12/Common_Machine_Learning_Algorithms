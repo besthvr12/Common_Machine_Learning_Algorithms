{
 "cells": [
  {
   "cell_type": "code",
   "execution_count": 68,
   "metadata": {},
   "outputs": [],
   "source": [
    "from sklearn.model_selection import train_test_split\n",
    "from sklearn.metrics import classification_report\n",
    "from sklearn.datasets import make_blobs\n",
    "import matplotlib.pyplot as plt\n",
    "import numpy as np\n",
    "\n",
    "\n",
    "def sigmoid_activation(x):\n",
    "    \n",
    "    return 1.0 / (1 + np.exp(-x))"
   ]
  },
  {
   "cell_type": "code",
   "execution_count": 69,
   "metadata": {},
   "outputs": [],
   "source": [
    "def predict(X, W):\n",
    "  # take the dot product between our features and weight matrix\n",
    "    preds = sigmoid_activation(X.dot(W))\n",
    "\n",
    "  # apply a step function to threshold the outputs to binary\n",
    "  # class labels\n",
    "    preds[preds <= 0.5] = 0\n",
    "    preds[preds > 0] = 1\n",
    "\n",
    " # return the predictions\n",
    "    return preds"
   ]
  },
  {
   "cell_type": "code",
   "execution_count": 70,
   "metadata": {},
   "outputs": [],
   "source": [
    "def next_batch(X, y, batchSize):\n",
    "   # loop over our dataset ‘X‘ in mini-batches, yielding a tuple of\n",
    "   # the current batched data and labels\n",
    "    for i in np.arange(0, X.shape[0], batchSize):\n",
    "        yield (X[i:i + batchSize], y[i:i + batchSize])"
   ]
  },
  {
   "cell_type": "code",
   "execution_count": 71,
   "metadata": {},
   "outputs": [],
   "source": [
    "# generate a 2-class classification problem with 1,000 data points,\n",
    "# where each data point is a 2D feature vector\n",
    "(X, y) = make_blobs(n_samples=1000, n_features=2, centers=2,\n",
    "cluster_std=1.5, random_state=1)\n",
    "y = y.reshape((y.shape[0], 1))\n",
    "\n",
    "# insert a column of 1’s as the last entry in the feature\n",
    "# matrix -- this little trick allows us to treat the bias\n",
    "# as a trainable parameter within the weight matrix\n",
    "X = np.c_[X, np.ones((X.shape[0]))]\n",
    "# partition the data into training and testing splits using 50% of\n",
    "# the data for training and the remaining 50% for testing\n",
    "(trainX, testX, trainY, testY) = train_test_split(X, y,\n",
    "test_size=0.5, random_state=42)"
   ]
  },
  {
   "cell_type": "code",
   "execution_count": 72,
   "metadata": {},
   "outputs": [],
   "source": [
    "epochs=100\n",
    "alpha=0.01\n",
    "batch_size=32"
   ]
  },
  {
   "cell_type": "code",
   "execution_count": 73,
   "metadata": {},
   "outputs": [
    {
     "name": "stdout",
     "output_type": "stream",
     "text": [
      "[INFO] training...\n"
     ]
    }
   ],
   "source": [
    "print(\"[INFO] training...\")\n",
    "W = np.random.randn(X.shape[1], 1)\n",
    "losses = []"
   ]
  },
  {
   "cell_type": "code",
   "execution_count": 74,
   "metadata": {},
   "outputs": [
    {
     "name": "stdout",
     "output_type": "stream",
     "text": [
      "[INFO] epoch=1, loss=21.0389016\n",
      "[INFO] epoch=5, loss=30.4687457\n",
      "[INFO] epoch=10, loss=30.3196826\n",
      "[INFO] epoch=15, loss=30.2499999\n",
      "[INFO] epoch=20, loss=30.2187155\n",
      "[INFO] epoch=25, loss=30.1876617\n",
      "[INFO] epoch=30, loss=30.1874337\n",
      "[INFO] epoch=35, loss=30.1562500\n",
      "[INFO] epoch=40, loss=30.1562500\n",
      "[INFO] epoch=45, loss=30.1562499\n",
      "[INFO] epoch=50, loss=30.1559829\n",
      "[INFO] epoch=55, loss=30.1251063\n",
      "[INFO] epoch=60, loss=30.1250000\n",
      "[INFO] epoch=65, loss=30.1250000\n",
      "[INFO] epoch=70, loss=30.1250000\n",
      "[INFO] epoch=75, loss=30.1250000\n",
      "[INFO] epoch=80, loss=30.1250000\n",
      "[INFO] epoch=85, loss=30.1250000\n",
      "[INFO] epoch=90, loss=30.1250000\n",
      "[INFO] epoch=95, loss=30.1250000\n",
      "[INFO] epoch=100, loss=30.1250000\n"
     ]
    }
   ],
   "source": [
    "# loop over the desired number of epochs\n",
    "for epoch in np.arange(0, epochs):\n",
    "    # initialize the total loss for the epoch\n",
    "    epochLoss = []\n",
    "\n",
    "    # loop over our data in batches\n",
    "    for (batchX, batchY) in next_batch(X, y,batch_size):\n",
    "       # take the dot product between our current batch of features\n",
    "        preds = sigmoid_activation(batchX.dot(W))\n",
    "\n",
    "        # now that we have our predictions, we need to determine the\n",
    "        # ‘error‘, which is the difference between our predictions\n",
    "        # and the true values\n",
    "        error = preds - batchY\n",
    "        epochLoss.append(np.sum(error ** 2))\n",
    "        # the gradient descent update is the dot product between our\n",
    "        # current batch and the error on the batch\n",
    "        gradient = batchX.T.dot(error)\n",
    " \n",
    "        # in the update stage, all we need to do is \"nudge\" the\n",
    "        # weight matrix in the negative direction of the gradient\n",
    "        # (hence the term \"gradient descent\") by taking a small step\n",
    "        # towards a set of \"more optimal\" parameters\n",
    "        W += alpha * gradient\n",
    "    loss = np.average(epochLoss)\n",
    "    losses.append(loss)\n",
    " \n",
    "        # check to see if an update should be displayed\n",
    "    if epoch == 0 or (epoch + 1) % 5 == 0:\n",
    "            \n",
    "        print(\"[INFO] epoch={}, loss={:.7f}\".format(int(epoch + 1),loss))     "
   ]
  },
  {
   "cell_type": "code",
   "execution_count": 75,
   "metadata": {},
   "outputs": [
    {
     "name": "stdout",
     "output_type": "stream",
     "text": [
      "[INFO] evaluating...\n",
      "              precision    recall  f1-score   support\n",
      "\n",
      "           0       0.07      0.08      0.08       250\n",
      "           1       0.00      0.00      0.00       250\n",
      "\n",
      "    accuracy                           0.04       500\n",
      "   macro avg       0.04      0.04      0.04       500\n",
      "weighted avg       0.04      0.04      0.04       500\n",
      "\n"
     ]
    }
   ],
   "source": [
    "# evaluate our model\n",
    "print(\"[INFO] evaluating...\")\n",
    "preds = predict(testX, W)\n",
    "print(classification_report(testY, preds))"
   ]
  },
  {
   "cell_type": "code",
   "execution_count": null,
   "metadata": {},
   "outputs": [],
   "source": []
  },
  {
   "cell_type": "code",
   "execution_count": null,
   "metadata": {},
   "outputs": [],
   "source": []
  },
  {
   "cell_type": "code",
   "execution_count": null,
   "metadata": {},
   "outputs": [],
   "source": []
  }
 ],
 "metadata": {
  "kernelspec": {
   "display_name": "Python 3",
   "language": "python",
   "name": "python3"
  },
  "language_info": {
   "codemirror_mode": {
    "name": "ipython",
    "version": 3
   },
   "file_extension": ".py",
   "mimetype": "text/x-python",
   "name": "python",
   "nbconvert_exporter": "python",
   "pygments_lexer": "ipython3",
   "version": "3.7.4"
  }
 },
 "nbformat": 4,
 "nbformat_minor": 2
}
